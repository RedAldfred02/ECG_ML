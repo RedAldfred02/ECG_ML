{
 "cells": [
  {
   "cell_type": "code",
   "execution_count": 1,
   "id": "d8a2214b-1833-4532-ab25-cdbccfa774e7",
   "metadata": {},
   "outputs": [
    {
     "data": {
      "text/html": [
       "<div>\n",
       "<style scoped>\n",
       "    .dataframe tbody tr th:only-of-type {\n",
       "        vertical-align: middle;\n",
       "    }\n",
       "\n",
       "    .dataframe tbody tr th {\n",
       "        vertical-align: top;\n",
       "    }\n",
       "\n",
       "    .dataframe thead th {\n",
       "        text-align: right;\n",
       "    }\n",
       "</style>\n",
       "<table border=\"1\" class=\"dataframe\">\n",
       "  <thead>\n",
       "    <tr style=\"text-align: right;\">\n",
       "      <th></th>\n",
       "      <th>ECG</th>\n",
       "      <th>Classification</th>\n",
       "    </tr>\n",
       "  </thead>\n",
       "  <tbody>\n",
       "    <tr>\n",
       "      <th>0</th>\n",
       "      <td>-127,-162,-197,-229,-245,-254,-261,-265,-268,-...</td>\n",
       "      <td>N</td>\n",
       "    </tr>\n",
       "    <tr>\n",
       "      <th>1</th>\n",
       "      <td>128,157,189,226,250,257,262,265,268,269,268,26...</td>\n",
       "      <td>N</td>\n",
       "    </tr>\n",
       "    <tr>\n",
       "      <th>2</th>\n",
       "      <td>519,619,723,827,914,956,955,934,920,900,889,88...</td>\n",
       "      <td>A</td>\n",
       "    </tr>\n",
       "    <tr>\n",
       "      <th>3</th>\n",
       "      <td>-266,-316,-367,-407,-423,-423,-401,-367,-329,-...</td>\n",
       "      <td>N</td>\n",
       "    </tr>\n",
       "    <tr>\n",
       "      <th>4</th>\n",
       "      <td>21,22,24,26,28,31,32,34,34,35,35,34,34,34,35,3...</td>\n",
       "      <td>N</td>\n",
       "    </tr>\n",
       "    <tr>\n",
       "      <th>...</th>\n",
       "      <td>...</td>\n",
       "      <td>...</td>\n",
       "    </tr>\n",
       "    <tr>\n",
       "      <th>3495</th>\n",
       "      <td>347,378,410,540,695,736,751,778,849,803,688,67...</td>\n",
       "      <td>N</td>\n",
       "    </tr>\n",
       "    <tr>\n",
       "      <th>3496</th>\n",
       "      <td>-59,-71,-87,-104,-111,-114,-117,-119,-120,-121...</td>\n",
       "      <td>N</td>\n",
       "    </tr>\n",
       "    <tr>\n",
       "      <th>3497</th>\n",
       "      <td>-60,-83,-106,-128,-145,-155,-163,-168,-173,-17...</td>\n",
       "      <td>N</td>\n",
       "    </tr>\n",
       "    <tr>\n",
       "      <th>3498</th>\n",
       "      <td>582,702,807,893,962,997,984,945,927,915,906,89...</td>\n",
       "      <td>N</td>\n",
       "    </tr>\n",
       "    <tr>\n",
       "      <th>3499</th>\n",
       "      <td>162,145,97,27,-36,-64,-90,-89,-37,61,188,324,4...</td>\n",
       "      <td>N</td>\n",
       "    </tr>\n",
       "  </tbody>\n",
       "</table>\n",
       "<p>3500 rows × 2 columns</p>\n",
       "</div>"
      ],
      "text/plain": [
       "                                                    ECG Classification\n",
       "0     -127,-162,-197,-229,-245,-254,-261,-265,-268,-...              N\n",
       "1     128,157,189,226,250,257,262,265,268,269,268,26...              N\n",
       "2     519,619,723,827,914,956,955,934,920,900,889,88...              A\n",
       "3     -266,-316,-367,-407,-423,-423,-401,-367,-329,-...              N\n",
       "4     21,22,24,26,28,31,32,34,34,35,35,34,34,34,35,3...              N\n",
       "...                                                 ...            ...\n",
       "3495  347,378,410,540,695,736,751,778,849,803,688,67...              N\n",
       "3496  -59,-71,-87,-104,-111,-114,-117,-119,-120,-121...              N\n",
       "3497  -60,-83,-106,-128,-145,-155,-163,-168,-173,-17...              N\n",
       "3498  582,702,807,893,962,997,984,945,927,915,906,89...              N\n",
       "3499  162,145,97,27,-36,-64,-90,-89,-37,61,188,324,4...              N\n",
       "\n",
       "[3500 rows x 2 columns]"
      ]
     },
     "execution_count": 1,
     "metadata": {},
     "output_type": "execute_result"
    }
   ],
   "source": [
    "import matplotlib.pyplot as plt\n",
    "import numpy as np \n",
    "import pandas as pd\n",
    "import seaborn as sns\n",
    "import heartpy as hp\n",
    "sample_rate=300\n",
    "ecg=pd.read_csv(\"C:\\\\Users\\\\adity\\\\Downloads\\\\ECG_training.csv\")\n",
    "ecg"
   ]
  },
  {
   "cell_type": "code",
   "execution_count": 2,
   "id": "405c6462-cb85-4d17-be58-3d1570812eab",
   "metadata": {},
   "outputs": [
    {
     "data": {
      "text/html": [
       "<div>\n",
       "<style scoped>\n",
       "    .dataframe tbody tr th:only-of-type {\n",
       "        vertical-align: middle;\n",
       "    }\n",
       "\n",
       "    .dataframe tbody tr th {\n",
       "        vertical-align: top;\n",
       "    }\n",
       "\n",
       "    .dataframe thead th {\n",
       "        text-align: right;\n",
       "    }\n",
       "</style>\n",
       "<table border=\"1\" class=\"dataframe\">\n",
       "  <thead>\n",
       "    <tr style=\"text-align: right;\">\n",
       "      <th></th>\n",
       "      <th>ECG</th>\n",
       "      <th>Classification</th>\n",
       "    </tr>\n",
       "  </thead>\n",
       "  <tbody>\n",
       "    <tr>\n",
       "      <th>0</th>\n",
       "      <td>-127,-162,-197,-229,-245,-254,-261,-265,-268,-...</td>\n",
       "      <td>N</td>\n",
       "    </tr>\n",
       "    <tr>\n",
       "      <th>1</th>\n",
       "      <td>128,157,189,226,250,257,262,265,268,269,268,26...</td>\n",
       "      <td>N</td>\n",
       "    </tr>\n",
       "    <tr>\n",
       "      <th>2</th>\n",
       "      <td>519,619,723,827,914,956,955,934,920,900,889,88...</td>\n",
       "      <td>A</td>\n",
       "    </tr>\n",
       "    <tr>\n",
       "      <th>3</th>\n",
       "      <td>-266,-316,-367,-407,-423,-423,-401,-367,-329,-...</td>\n",
       "      <td>N</td>\n",
       "    </tr>\n",
       "    <tr>\n",
       "      <th>4</th>\n",
       "      <td>21,22,24,26,28,31,32,34,34,35,35,34,34,34,35,3...</td>\n",
       "      <td>N</td>\n",
       "    </tr>\n",
       "    <tr>\n",
       "      <th>...</th>\n",
       "      <td>...</td>\n",
       "      <td>...</td>\n",
       "    </tr>\n",
       "    <tr>\n",
       "      <th>3495</th>\n",
       "      <td>347,378,410,540,695,736,751,778,849,803,688,67...</td>\n",
       "      <td>N</td>\n",
       "    </tr>\n",
       "    <tr>\n",
       "      <th>3496</th>\n",
       "      <td>-59,-71,-87,-104,-111,-114,-117,-119,-120,-121...</td>\n",
       "      <td>N</td>\n",
       "    </tr>\n",
       "    <tr>\n",
       "      <th>3497</th>\n",
       "      <td>-60,-83,-106,-128,-145,-155,-163,-168,-173,-17...</td>\n",
       "      <td>N</td>\n",
       "    </tr>\n",
       "    <tr>\n",
       "      <th>3498</th>\n",
       "      <td>582,702,807,893,962,997,984,945,927,915,906,89...</td>\n",
       "      <td>N</td>\n",
       "    </tr>\n",
       "    <tr>\n",
       "      <th>3499</th>\n",
       "      <td>162,145,97,27,-36,-64,-90,-89,-37,61,188,324,4...</td>\n",
       "      <td>N</td>\n",
       "    </tr>\n",
       "  </tbody>\n",
       "</table>\n",
       "<p>3498 rows × 2 columns</p>\n",
       "</div>"
      ],
      "text/plain": [
       "                                                    ECG Classification\n",
       "0     -127,-162,-197,-229,-245,-254,-261,-265,-268,-...              N\n",
       "1     128,157,189,226,250,257,262,265,268,269,268,26...              N\n",
       "2     519,619,723,827,914,956,955,934,920,900,889,88...              A\n",
       "3     -266,-316,-367,-407,-423,-423,-401,-367,-329,-...              N\n",
       "4     21,22,24,26,28,31,32,34,34,35,35,34,34,34,35,3...              N\n",
       "...                                                 ...            ...\n",
       "3495  347,378,410,540,695,736,751,778,849,803,688,67...              N\n",
       "3496  -59,-71,-87,-104,-111,-114,-117,-119,-120,-121...              N\n",
       "3497  -60,-83,-106,-128,-145,-155,-163,-168,-173,-17...              N\n",
       "3498  582,702,807,893,962,997,984,945,927,915,906,89...              N\n",
       "3499  162,145,97,27,-36,-64,-90,-89,-37,61,188,324,4...              N\n",
       "\n",
       "[3498 rows x 2 columns]"
      ]
     },
     "execution_count": 2,
     "metadata": {},
     "output_type": "execute_result"
    }
   ],
   "source": [
    "ecg=ecg.drop_duplicates()\n",
    "ecg.shape\n",
    "ecg"
   ]
  },
  {
   "cell_type": "code",
   "execution_count": 4,
   "id": "0d8ac978-949c-4a57-b322-ba5a44939fdb",
   "metadata": {},
   "outputs": [
    {
     "data": {
      "text/plain": [
       "ECG               0\n",
       "Classification    0\n",
       "dtype: int64"
      ]
     },
     "execution_count": 4,
     "metadata": {},
     "output_type": "execute_result"
    }
   ],
   "source": [
    "ecg.isnull().sum()"
   ]
  },
  {
   "cell_type": "code",
   "execution_count": 15,
   "id": "2114e462-f058-4729-8409-d8dd7ba606d7",
   "metadata": {},
   "outputs": [
    {
     "data": {
      "text/plain": [
       "(3498, 2)"
      ]
     },
     "execution_count": 15,
     "metadata": {},
     "output_type": "execute_result"
    }
   ],
   "source": [
    "ecg.shape"
   ]
  },
  {
   "cell_type": "code",
   "execution_count": 6,
   "id": "a704b180-71c5-40fd-b651-9ada19c9972a",
   "metadata": {},
   "outputs": [],
   "source": [
    "def filte_and_visualise(data, sample_rate):\n",
    "    \n",
    "    filtered = hp.remove_baseline_wander(hp.scale_data(data), sample_rate)\n",
    "    working_d, meas=hp.process(hp.scale_data(filtered),300)\n",
    "    return filtered\n"
   ]
  },
  {
   "cell_type": "code",
   "execution_count": 7,
   "id": "38a6d2d5-c11b-4c18-8b3c-9ec5333dece8",
   "metadata": {},
   "outputs": [],
   "source": [
    "def filter_and_visualise(data, sample_rate):\n",
    "    \n",
    "    filtered = hp.remove_baseline_wander(hp.scale_data(data), sample_rate)\n",
    "\n",
    "    plt.figure(figsize=(12,3))\n",
    "    plt.title('signal with baseline wander removed')\n",
    "    plt.plot(filtered)\n",
    "    plt.show()\n",
    "    working_d, meas=hp.process(hp.scale_data(filtered),300)\n",
    "    return filtered"
   ]
  },
  {
   "cell_type": "code",
   "execution_count": 22,
   "id": "92fb8090-4fb0-4352-a9da-928926bf0893",
   "metadata": {},
   "outputs": [],
   "source": [
    "l1=[]\n",
    "data_HR=[]\n",
    "L1=[]\n",
    "for i in range(3498):\n",
    "    if i not in [120,121,221,245,707,921,1971,2251,2386,2638,2724,2895,3303,3406]:\n",
    "        l0=ecg['ECG'].iloc[i].split(',')[2000:4500]\n",
    "        L0=[float(j) for j in l0]\n",
    "        l1.append(ecg['Classification'].iloc[i])\n",
    "        x=filte_and_visualise(L0, sample_rate)\n",
    "        data_HR.append(x)"
   ]
  },
  {
   "cell_type": "code",
   "execution_count": 63,
   "id": "4809a9ad-f6ae-410b-bdd7-f336ef5d18b8",
   "metadata": {},
   "outputs": [
    {
     "name": "stdout",
     "output_type": "stream",
     "text": [
      "N\n"
     ]
    },
    {
     "data": {
      "image/png": "[encoded data removed]",
      "text/plain": [
       "<Figure size 1200x300 with 1 Axes>"
      ]
     },
     "metadata": {},
     "output_type": "display_data"
    },
    {
     "data": {
      "image/png": "[encoded data removed]",
      "text/plain": [
       "<Figure size 1200x300 with 1 Axes>"
      ]
     },
     "metadata": {},
     "output_type": "display_data"
    }
   ],
   "source": [
    "m0=ecg['ECG'].iloc[0].split(',')\n",
    "M0=[float(j) for j in m0]\n",
    "m1=ecg['ECG'].iloc[2].split(',')\n",
    "print(ecg['Classification'][250])\n",
    "M1=[float(j) for j in m1]\n",
    "filtered = filter_and_visualise(M0, sample_rate)\n",
    "filtered = filter_and_visualise(M1, sample_rate)"
   ]
  },
  {
   "cell_type": "code",
   "execution_count": 23,
   "id": "82fb418a-f20b-4049-9c6c-d868112a4093",
   "metadata": {},
   "outputs": [
    {
     "name": "stdout",
     "output_type": "stream",
     "text": [
      "3484\n",
      "3484\n"
     ]
    }
   ],
   "source": [
    "print(len(l1))\n",
    "print(len(data_HR))"
   ]
  },
  {
   "cell_type": "code",
   "execution_count": 28,
   "id": "712e20cf-eb0d-4a9c-a142-487e14518d1d",
   "metadata": {},
   "outputs": [],
   "source": [
    "d=[]\n",
    "for i in range(len(data_HR)):\n",
    "    k=[]\n",
    "    wd,m=hp.process(data_HR[i],sample_rate)\n",
    "    for i in m.keys():\n",
    "        k.append(m[i])\n",
    "    d.append(k)"
   ]
  },
  {
   "cell_type": "code",
   "execution_count": 27,
   "id": "6df7e310-e325-45ee-9c1b-564ecda9b22c",
   "metadata": {},
   "outputs": [
    {
     "name": "stdout",
     "output_type": "stream",
     "text": [
      "bpm\n",
      "ibi\n",
      "sdnn\n",
      "sdsd\n",
      "rmssd\n",
      "pnn20\n",
      "pnn50\n",
      "hr_mad\n",
      "sd1\n",
      "sd2\n",
      "s\n",
      "sd1/sd2\n",
      "breathingrate\n"
     ]
    }
   ],
   "source": [
    "for i in m.keys():\n",
    "    print(i)"
   ]
  },
  {
   "cell_type": "code",
   "execution_count": 32,
   "id": "2510cab8-fa8d-48d1-93ce-3d0845859386",
   "metadata": {},
   "outputs": [
    {
     "name": "stdout",
     "output_type": "stream",
     "text": [
      "3484 3484 3484 3484 3484 3484 3484 3484 3484\n"
     ]
    }
   ],
   "source": [
    "def feat_list(i):\n",
    "    lst=[]\n",
    "    for j in range (len(d)):\n",
    "        lst.append(d[j][i])\n",
    "    return lst\n",
    "bpm=feat_list(0)\n",
    "ibi=feat_list(1)\n",
    "sdnn=feat_list(2)\n",
    "sdsd=feat_list(3)\n",
    "rmssd=feat_list(4)\n",
    "pnn20=feat_list(5)\n",
    "pnn50=feat_list(6)\n",
    "hr_mad=feat_list(7)\n",
    "sd1=feat_list(8)\n",
    "sd2=feat_list(9)\n",
    "s=feat_list(10)\n",
    "sd1_sd2=feat_list(11)\n",
    "breathingrate=feat_list(12)"
   ]
  },
  {
   "cell_type": "code",
   "execution_count": 33,
   "id": "1fbb2690-9205-4f99-9a64-163ec078d751",
   "metadata": {},
   "outputs": [],
   "source": [
    "df=pd.DataFrame({'num':[i for i in range(3484)],'bpm':bpm,'ibi':ibi,'sdnn':sdnn,'sdsd':sdsd,'rmssd':rmssd,'pnn20':pnn20,'pnn50':pnn50,'hr_mad':hr_mad,'sd1':sd1,'sd2':sd2,'s':s,'sd1_sd2':sd1_sd2,'breathingrate':breathingrate,'class':l1})"
   ]
  },
  {
   "cell_type": "code",
   "execution_count": 34,
   "id": "1891fdbc-c2e3-41ec-9fcb-8449acbea18d",
   "metadata": {},
   "outputs": [
    {
     "data": {
      "text/html": [
       "<div>\n",
       "<style scoped>\n",
       "    .dataframe tbody tr th:only-of-type {\n",
       "        vertical-align: middle;\n",
       "    }\n",
       "\n",
       "    .dataframe tbody tr th {\n",
       "        vertical-align: top;\n",
       "    }\n",
       "\n",
       "    .dataframe thead th {\n",
       "        text-align: right;\n",
       "    }\n",
       "</style>\n",
       "<table border=\"1\" class=\"dataframe\">\n",
       "  <thead>\n",
       "    <tr style=\"text-align: right;\">\n",
       "      <th></th>\n",
       "      <th>num</th>\n",
       "      <th>bpm</th>\n",
       "      <th>ibi</th>\n",
       "      <th>sdnn</th>\n",
       "      <th>sdsd</th>\n",
       "      <th>rmssd</th>\n",
       "      <th>pnn20</th>\n",
       "      <th>pnn50</th>\n",
       "      <th>hr_mad</th>\n",
       "      <th>sd1</th>\n",
       "      <th>sd2</th>\n",
       "      <th>s</th>\n",
       "      <th>sd1_sd2</th>\n",
       "      <th>breathingrate</th>\n",
       "      <th>class</th>\n",
       "    </tr>\n",
       "  </thead>\n",
       "  <tbody>\n",
       "    <tr>\n",
       "      <th>0</th>\n",
       "      <td>0</td>\n",
       "      <td>75.665577</td>\n",
       "      <td>792.962963</td>\n",
       "      <td>20.514641</td>\n",
       "      <td>10.921119</td>\n",
       "      <td>20.982797</td>\n",
       "      <td>0.25</td>\n",
       "      <td>0.00</td>\n",
       "      <td>13.333333</td>\n",
       "      <td>14.598207</td>\n",
       "      <td>25.547817</td>\n",
       "      <td>1171.664265</td>\n",
       "      <td>0.571407</td>\n",
       "      <td>0.280308</td>\n",
       "      <td>N</td>\n",
       "    </tr>\n",
       "    <tr>\n",
       "      <th>1</th>\n",
       "      <td>1</td>\n",
       "      <td>284.210526</td>\n",
       "      <td>211.111111</td>\n",
       "      <td>51.376125</td>\n",
       "      <td>0.0</td>\n",
       "      <td>40.000000</td>\n",
       "      <td>1.00</td>\n",
       "      <td>0.00</td>\n",
       "      <td>40.000000</td>\n",
       "      <td>0.000000</td>\n",
       "      <td>0.000000</td>\n",
       "      <td>0.000000</td>\n",
       "      <td>NaN</td>\n",
       "      <td>NaN</td>\n",
       "      <td>N</td>\n",
       "    </tr>\n",
       "    <tr>\n",
       "      <th>2</th>\n",
       "      <td>2</td>\n",
       "      <td>64.554692</td>\n",
       "      <td>929.444444</td>\n",
       "      <td>221.939403</td>\n",
       "      <td>188.309438</td>\n",
       "      <td>271.321867</td>\n",
       "      <td>0.80</td>\n",
       "      <td>0.60</td>\n",
       "      <td>83.333333</td>\n",
       "      <td>191.597959</td>\n",
       "      <td>256.415461</td>\n",
       "      <td>154342.297026</td>\n",
       "      <td>0.747217</td>\n",
       "      <td>0.179404</td>\n",
       "      <td>A</td>\n",
       "    </tr>\n",
       "    <tr>\n",
       "      <th>3</th>\n",
       "      <td>3</td>\n",
       "      <td>57.507987</td>\n",
       "      <td>1043.333333</td>\n",
       "      <td>8.164966</td>\n",
       "      <td>5.0</td>\n",
       "      <td>15.811388</td>\n",
       "      <td>0.00</td>\n",
       "      <td>0.00</td>\n",
       "      <td>10.000000</td>\n",
       "      <td>10.606602</td>\n",
       "      <td>3.535534</td>\n",
       "      <td>117.809725</td>\n",
       "      <td>3.000000</td>\n",
       "      <td>NaN</td>\n",
       "      <td>N</td>\n",
       "    </tr>\n",
       "    <tr>\n",
       "      <th>4</th>\n",
       "      <td>4</td>\n",
       "      <td>61.573546</td>\n",
       "      <td>974.444444</td>\n",
       "      <td>24.770552</td>\n",
       "      <td>19.79057</td>\n",
       "      <td>34.560736</td>\n",
       "      <td>0.50</td>\n",
       "      <td>0.25</td>\n",
       "      <td>11.666667</td>\n",
       "      <td>24.438130</td>\n",
       "      <td>19.790570</td>\n",
       "      <td>1519.414121</td>\n",
       "      <td>1.234837</td>\n",
       "      <td>0.171086</td>\n",
       "      <td>N</td>\n",
       "    </tr>\n",
       "  </tbody>\n",
       "</table>\n",
       "</div>"
      ],
      "text/plain": [
       "   num         bpm          ibi        sdnn        sdsd       rmssd  pnn20  \\\n",
       "0    0   75.665577   792.962963   20.514641   10.921119   20.982797   0.25   \n",
       "1    1  284.210526   211.111111   51.376125         0.0   40.000000   1.00   \n",
       "2    2   64.554692   929.444444  221.939403  188.309438  271.321867   0.80   \n",
       "3    3   57.507987  1043.333333    8.164966         5.0   15.811388   0.00   \n",
       "4    4   61.573546   974.444444   24.770552    19.79057   34.560736   0.50   \n",
       "\n",
       "   pnn50     hr_mad         sd1         sd2              s   sd1_sd2  \\\n",
       "0   0.00  13.333333   14.598207   25.547817    1171.664265  0.571407   \n",
       "1   0.00  40.000000    0.000000    0.000000       0.000000       NaN   \n",
       "2   0.60  83.333333  191.597959  256.415461  154342.297026  0.747217   \n",
       "3   0.00  10.000000   10.606602    3.535534     117.809725  3.000000   \n",
       "4   0.25  11.666667   24.438130   19.790570    1519.414121  1.234837   \n",
       "\n",
       "   breathingrate class  \n",
       "0       0.280308     N  \n",
       "1            NaN     N  \n",
       "2       0.179404     A  \n",
       "3            NaN     N  \n",
       "4       0.171086     N  "
      ]
     },
     "execution_count": 34,
     "metadata": {},
     "output_type": "execute_result"
    }
   ],
   "source": [
    "df.head()"
   ]
  },
  {
   "cell_type": "code",
   "execution_count": 40,
   "id": "e4f6314c-16ea-4a9f-8983-b98cdb59b6a8",
   "metadata": {},
   "outputs": [
    {
     "data": {
      "text/plain": [
       "num                0\n",
       "bpm              187\n",
       "ibi              187\n",
       "sdnn             187\n",
       "sdsd               0\n",
       "rmssd            312\n",
       "pnn20            312\n",
       "pnn50            312\n",
       "hr_mad           187\n",
       "sd1              312\n",
       "sd2              312\n",
       "s                312\n",
       "sd1_sd2          370\n",
       "breathingrate    362\n",
       "dtype: int64"
      ]
     },
     "execution_count": 40,
     "metadata": {},
     "output_type": "execute_result"
    }
   ],
   "source": [
    "df.isnull().sum()"
   ]
  },
  {
   "cell_type": "code",
   "execution_count": 36,
   "id": "dbeb6ffa-bb3f-4077-b338-c2bb2cbdafae",
   "metadata": {},
   "outputs": [],
   "source": [
    "df1=df.dropna()"
   ]
  },
  {
   "cell_type": "code",
   "execution_count": 37,
   "id": "927ce7e8-ee36-40d6-a659-b120ce4aa5e0",
   "metadata": {},
   "outputs": [
    {
     "data": {
      "text/plain": [
       "(3102, 15)"
      ]
     },
     "execution_count": 37,
     "metadata": {},
     "output_type": "execute_result"
    }
   ],
   "source": [
    "df1.shape"
   ]
  },
  {
   "cell_type": "code",
   "execution_count": 40,
   "id": "9421bcba-459d-4ba3-a6e7-a9145622f899",
   "metadata": {},
   "outputs": [],
   "source": [
    "in1=df1.drop(columns=['class'])\n",
    "res=df1['class']"
   ]
  },
  {
   "cell_type": "code",
   "execution_count": 48,
   "id": "74f94bac-a55b-47b1-a88b-1a1d42b276e3",
   "metadata": {},
   "outputs": [
    {
     "name": "stdout",
     "output_type": "stream",
     "text": [
      "0.9388083735909822\n"
     ]
    }
   ],
   "source": [
    "from sklearn.tree import DecisionTreeClassifier as dtc\n",
    "from sklearn.model_selection import train_test_split as tts\n",
    "from sklearn.metrics import accuracy_score \n",
    "model=dtc()\n",
    "in1_1,in1_2,res_1,res_2=tts(in1 , res ,test_size=0.2)\n",
    "model.fit(in1_1 , res_1)\n",
    "predictions=model.predict(in1_2)\n",
    "score=accuracy_score(res_2,predictions)\n",
    "print(score)"
   ]
  }
 ],
 "metadata": {
  "kernelspec": {
   "display_name": "Python 3 (ipykernel)",
   "language": "python",
   "name": "python3"
  },
  "language_info": {
   "codemirror_mode": {
    "name": "ipython",
    "version": 3
   },
   "file_extension": ".py",
   "mimetype": "text/x-python",
   "name": "python",
   "nbconvert_exporter": "python",
   "pygments_lexer": "ipython3",
   "version": "3.9.13"
  }
 },
 "nbformat": 4,
 "nbformat_minor": 5
}
